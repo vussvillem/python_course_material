{
 "metadata": {
  "name": "python_PART_2"
 },
 "nbformat": 3,
 "nbformat_minor": 0,
 "worksheets": [
  {
   "cells": [
    {
     "cell_type": "markdown",
     "metadata": {},
     "source": [
      "Introduction to scientific computing with Python\n",
      "------------------------------------------------\n",
      "------------------------------------------------\n",
      "\n",
      "David Schryer (schryer@ut.ee)\n",
      "\n",
      "* https://github.com/schryer    \n",
      "* https://bitbucket.org/schryer\n",
      "\n",
      "All notebooks in this lecture series are available at\n",
      "\n",
      "* https://github.com/schryer/python_course_material"
     ]
    },
    {
     "cell_type": "markdown",
     "metadata": {},
     "source": [
      "## Variables and types\n",
      "\n",
      "### Symbol names \n",
      "\n",
      "Variable names in Python can contain alphanumerical characters `a-z`, `A-Z`, `0-9` and some special characters such as `_`. Normal variable names should not start with a number. \n",
      "\n",
      "By convension, variable names start with a lower-case letter, and Class names start with a capital letter. \n",
      "\n",
      "In addition, there are a number of Python keywords that cannot be used as variable names. These keywords are:\n",
      "\n",
      "    and, as, assert, break, class, continue, def, del, elif, else, except, \n",
      "    exec, finally, for, from, global, if, import, in, is, lambda, not, or,\n",
      "    pass, print, raise, return, try, while, with, yield.\n",
      "\n",
      "Common python functions and modules should also not be used as variable names.  If it is commonly imported, \n",
      "DO NOT use it as a variable name:\n",
      "\n",
      "    string, os, sys, ord, chr, int, float, bool, long, numpy, .... (longer list)\n",
      "\n",
      "Conventional variable names:"
     ]
    },
    {
     "cell_type": "code",
     "collapsed": false,
     "input": [
      "x = 1.0\n",
      "x1 = 3.4\n",
      "x23982342 = 56.8\n",
      "\n",
      "my_variable = \"a string\""
     ],
     "language": "python",
     "metadata": {},
     "outputs": [],
     "prompt_number": 5
    },
    {
     "cell_type": "markdown",
     "metadata": {},
     "source": [
      "Variable names with special meaning:"
     ]
    },
    {
     "cell_type": "code",
     "collapsed": false,
     "input": [
      "_x = 1.0  # By convention a leading underscore means don't import, use, or set this variable directly.\n",
      "\n",
      "__x__ = 'Variables with two leading and two trailing underscores have special meaning --- remember help(1)'  \n"
     ],
     "language": "python",
     "metadata": {},
     "outputs": []
    },
    {
     "cell_type": "markdown",
     "metadata": {},
     "source": [
      "### Fundamental types"
     ]
    },
    {
     "cell_type": "code",
     "collapsed": false,
     "input": [
      "x = 1; y = 10000000000000000000000000\n",
      "type(x), type(y)"
     ],
     "language": "python",
     "metadata": {},
     "outputs": [
      {
       "output_type": "pyout",
       "prompt_number": 6,
       "text": [
        "(int, long)"
       ]
      }
     ],
     "prompt_number": 6
    },
    {
     "cell_type": "code",
     "collapsed": false,
     "input": [
      "x = 1.0\n",
      "type(x)"
     ],
     "language": "python",
     "metadata": {},
     "outputs": [
      {
       "output_type": "pyout",
       "prompt_number": 7,
       "text": [
        "float"
       ]
      }
     ],
     "prompt_number": 7
    },
    {
     "cell_type": "markdown",
     "metadata": {},
     "source": [
      "Boolean types start with capital letters:"
     ]
    },
    {
     "cell_type": "code",
     "collapsed": false,
     "input": [
      "b1 = True\n",
      "b2 = False\n",
      "\n",
      "type(b1)"
     ],
     "language": "python",
     "metadata": {},
     "outputs": [
      {
       "output_type": "pyout",
       "prompt_number": 8,
       "text": [
        "bool"
       ]
      }
     ],
     "prompt_number": 8
    },
    {
     "cell_type": "markdown",
     "metadata": {},
     "source": [
      "Complex numbers are a fundamental type: note the use of `j` to specify the imaginary part"
     ]
    },
    {
     "cell_type": "code",
     "collapsed": false,
     "input": [
      "x = 1.0 - 1.0j\n",
      "type(x)"
     ],
     "language": "python",
     "metadata": {},
     "outputs": [
      {
       "output_type": "pyout",
       "prompt_number": 9,
       "text": [
        "complex"
       ]
      }
     ],
     "prompt_number": 9
    },
    {
     "cell_type": "markdown",
     "metadata": {},
     "source": [
      "The `None` type is very commonly used.  NumPy introduces many more types that we will see later."
     ]
    },
    {
     "cell_type": "code",
     "collapsed": false,
     "input": [
      "x = None\n",
      "print(x)"
     ],
     "language": "python",
     "metadata": {},
     "outputs": [
      {
       "output_type": "stream",
       "stream": "stdout",
       "text": [
        "None\n"
       ]
      }
     ],
     "prompt_number": 22
    },
    {
     "cell_type": "markdown",
     "metadata": {},
     "source": [
      "Note that Python does not have a character (`char`) type.  If you are converting old `C` code that uses ASCII values you can use `ord`:"
     ]
    },
    {
     "cell_type": "code",
     "collapsed": false,
     "input": [
      "ord(u'\u00f5')"
     ],
     "language": "python",
     "metadata": {},
     "outputs": [
      {
       "output_type": "pyout",
       "prompt_number": 18,
       "text": [
        "245"
       ]
      }
     ],
     "prompt_number": 18
    },
    {
     "cell_type": "markdown",
     "metadata": {},
     "source": [
      "To convert back to a letter, use chr.  These functions (`ord` and `chr`) are not commonly used because strings are a joy to work with in Python.  \n",
      "However, strings are special because they are also containers (see below)."
     ]
    },
    {
     "cell_type": "code",
     "collapsed": false,
     "input": [
      "print(chr(245))"
     ],
     "language": "python",
     "metadata": {},
     "outputs": [
      {
       "output_type": "stream",
       "stream": "stdout",
       "text": [
        "\ufffd\n"
       ]
      }
     ],
     "prompt_number": 20
    },
    {
     "cell_type": "markdown",
     "metadata": {},
     "source": [
      "### Strings\n",
      "\n",
      "Strings are a special fundamental type because they are also *containers*.\n",
      "\n",
      "Strings can be made by enclosing text with either single or double quotation characters (') or (\")."
     ]
    },
    {
     "cell_type": "code",
     "collapsed": false,
     "input": [
      "Stan_Ulam_said = \"Whatever is worth saying can be stated in fifty words or less.\"\n",
      "I_say = 'Most ideas can be expressed in fifty Python statements or less.'\n",
      "print(Stan_Ulam_said)"
     ],
     "language": "python",
     "metadata": {},
     "outputs": [
      {
       "output_type": "stream",
       "stream": "stdout",
       "text": [
        "Whatever is worth saying can be stated in fifty words or less.\n"
       ]
      }
     ],
     "prompt_number": 23
    },
    {
     "cell_type": "markdown",
     "metadata": {},
     "source": [
      "Multiline strings are made by starting and ending with three quotation characters (''' text ''') or (\"\"\" text \"\"\")."
     ]
    },
    {
     "cell_type": "code",
     "collapsed": false,
     "input": [
      "John_Tukey_said = \"\"\"\n",
      "An approximate answer to the right problem is worth a good deal \n",
      "more than an exact answer to an approximate problem.\"\"\"\n",
      "print(John_Tukey_said)"
     ],
     "language": "python",
     "metadata": {},
     "outputs": [
      {
       "output_type": "stream",
       "stream": "stdout",
       "text": [
        "\n",
        "An approximate answer to the right problem is worth a good deal \n",
        "more than an exact answer to an approximate problem.\n"
       ]
      }
     ],
     "prompt_number": 26
    },
    {
     "cell_type": "markdown",
     "metadata": {},
     "source": [
      "Triple quotes can be used to make strings that contain quote characters:"
     ]
    },
    {
     "cell_type": "code",
     "collapsed": false,
     "input": [
      "Even_though_the_student_knew_the_problem_was_ill_poised = ''',\n",
      "\n",
      "the professor strongly advised: \n",
      "\n",
      "\"Do the calculation!\".'''"
     ],
     "language": "python",
     "metadata": {},
     "outputs": []
    },
    {
     "cell_type": "markdown",
     "metadata": {},
     "source": [
      "### Containers in Python\n",
      "\n",
      "Containers are used to hold groups of objects (such as fundamental types, or other containers).\n",
      "It is easy (and common) to define your own container types in Python that have specific properties. \n",
      "\n",
      "Strings (both `str` (8-bit) and `unicode`) are a special type of container that only hold text.  \n",
      "\n",
      "Containers allow us to do many things:"
     ]
    },
    {
     "cell_type": "markdown",
     "metadata": {},
     "source": [
      "`True` if an item is contained in a container object, otherwise `False`.  This is useful for checking substrings:"
     ]
    },
    {
     "cell_type": "code",
     "collapsed": false,
     "input": [
      "'fifty' in Stan_Ulam_said"
     ],
     "language": "python",
     "metadata": {},
     "outputs": [
      {
       "output_type": "pyout",
       "prompt_number": 27,
       "text": [
        "True"
       ]
      }
     ],
     "prompt_number": 27
    },
    {
     "cell_type": "markdown",
     "metadata": {},
     "source": [
      "The `not` keyword can be used to test the opposite (The substring '50' is not in this `str` object): "
     ]
    },
    {
     "cell_type": "code",
     "collapsed": false,
     "input": [
      "'50' not in Stan_Ulam_said"
     ],
     "language": "python",
     "metadata": {},
     "outputs": [
      {
       "output_type": "pyout",
       "prompt_number": 28,
       "text": [
        "True"
       ]
      }
     ],
     "prompt_number": 28
    },
    {
     "cell_type": "markdown",
     "metadata": {},
     "source": [
      "Elements of a container can be accessed from the start by positive indicies (starting at `0`):"
     ]
    },
    {
     "cell_type": "code",
     "collapsed": false,
     "input": [
      "I_say[0]"
     ],
     "language": "python",
     "metadata": {},
     "outputs": [
      {
       "output_type": "pyout",
       "prompt_number": 29,
       "text": [
        "'M'"
       ]
      }
     ],
     "prompt_number": 29
    },
    {
     "cell_type": "markdown",
     "metadata": {},
     "source": [
      "Or from the end by negative indicies (starting at -1)"
     ]
    },
    {
     "cell_type": "code",
     "collapsed": false,
     "input": [
      "I_say[-1]"
     ],
     "language": "python",
     "metadata": {},
     "outputs": [
      {
       "output_type": "pyout",
       "prompt_number": 31,
       "text": [
        "'.'"
       ]
      }
     ],
     "prompt_number": 31
    },
    {
     "cell_type": "markdown",
     "metadata": {},
     "source": [
      "Multiple elements can be accessed by slicing:"
     ]
    },
    {
     "cell_type": "code",
     "collapsed": false,
     "input": [
      "I_say[0:4]"
     ],
     "language": "python",
     "metadata": {},
     "outputs": [
      {
       "output_type": "pyout",
       "prompt_number": 32,
       "text": [
        "'Most'"
       ]
      }
     ],
     "prompt_number": 32
    },
    {
     "cell_type": "markdown",
     "metadata": {},
     "source": [
      "Leaving out one of these indicies means **to the beginning** or **to the end**:"
     ]
    },
    {
     "cell_type": "code",
     "collapsed": false,
     "input": [
      "I_say[:4]"
     ],
     "language": "python",
     "metadata": {},
     "outputs": [
      {
       "output_type": "pyout",
       "prompt_number": 33,
       "text": [
        "'Most'"
       ]
      }
     ],
     "prompt_number": 33
    },
    {
     "cell_type": "code",
     "collapsed": false,
     "input": [
      "I_say[5:]"
     ],
     "language": "python",
     "metadata": {},
     "outputs": [
      {
       "output_type": "pyout",
       "prompt_number": 34,
       "text": [
        "'ideas can be expressed in fifty Python statements or less.'"
       ]
      }
     ],
     "prompt_number": 34
    },
    {
     "cell_type": "markdown",
     "metadata": {},
     "source": [
      "This also works with negative indicies:"
     ]
    },
    {
     "cell_type": "code",
     "collapsed": false,
     "input": [
      "I_say[-5:]"
     ],
     "language": "python",
     "metadata": {},
     "outputs": [
      {
       "output_type": "pyout",
       "prompt_number": 35,
       "text": [
        "'less.'"
       ]
      }
     ],
     "prompt_number": 35
    },
    {
     "cell_type": "markdown",
     "metadata": {},
     "source": [
      "You can also skip elements when slicing (In these cases we slice in steps of 2):"
     ]
    },
    {
     "cell_type": "code",
     "collapsed": false,
     "input": [
      "I_say[5:16:2]"
     ],
     "language": "python",
     "metadata": {},
     "outputs": [
      {
       "output_type": "pyout",
       "prompt_number": 36,
       "text": [
        "'iescnb'"
       ]
      }
     ],
     "prompt_number": 36
    },
    {
     "cell_type": "code",
     "collapsed": false,
     "input": [
      "I_say[::2]"
     ],
     "language": "python",
     "metadata": {},
     "outputs": [
      {
       "output_type": "pyout",
       "prompt_number": 37,
       "text": [
        "'Ms da a eepesdi it yhnsaeet rls.'"
       ]
      }
     ],
     "prompt_number": 37
    },
    {
     "cell_type": "markdown",
     "metadata": {},
     "source": [
      "The number of items in a container is its length: "
     ]
    },
    {
     "cell_type": "code",
     "collapsed": false,
     "input": [
      "len(I_say)"
     ],
     "language": "python",
     "metadata": {},
     "outputs": [
      {
       "output_type": "pyout",
       "prompt_number": 38,
       "text": [
        "63"
       ]
      }
     ],
     "prompt_number": 38
    },
    {
     "cell_type": "markdown",
     "metadata": {},
     "source": [
      "The smallest and largest items in a container are found using `min` and `max`, however, this is not often useful for strings:"
     ]
    },
    {
     "cell_type": "code",
     "collapsed": false,
     "input": [
      "min(I_say), max(I_say)"
     ],
     "language": "python",
     "metadata": {},
     "outputs": [
      {
       "output_type": "pyout",
       "prompt_number": 39,
       "text": [
        "(' ', 'y')"
       ]
      }
     ],
     "prompt_number": 39
    },
    {
     "cell_type": "markdown",
     "metadata": {},
     "source": [
      "You can find the index of the first occurance of an object in a container:"
     ]
    },
    {
     "cell_type": "code",
     "collapsed": false,
     "input": [
      "I_say.index('fifty'), Stan_Ulam_said.index('fifty')"
     ],
     "language": "python",
     "metadata": {},
     "outputs": [
      {
       "output_type": "pyout",
       "prompt_number": 43,
       "text": [
        "(31, 42)"
       ]
      }
     ],
     "prompt_number": 43
    },
    {
     "cell_type": "code",
     "collapsed": false,
     "input": [
      "I_say[31:]"
     ],
     "language": "python",
     "metadata": {},
     "outputs": [
      {
       "output_type": "pyout",
       "prompt_number": 44,
       "text": [
        "'fifty Python statements or less.'"
       ]
      }
     ],
     "prompt_number": 44
    },
    {
     "cell_type": "markdown",
     "metadata": {},
     "source": [
      "This proves that I said `fifty` first...\n",
      "\n",
      "You can also count the number of times an object occurs in a container:"
     ]
    },
    {
     "cell_type": "code",
     "collapsed": false,
     "input": [
      "John_Tukey_said.count('approximate')"
     ],
     "language": "python",
     "metadata": {},
     "outputs": []
    },
    {
     "cell_type": "markdown",
     "metadata": {},
     "source": [
      "Now explore what you can do with `str` and `unicode` objects.\n",
      "=============================================================\n",
      "\n",
      "OPEN A TERMINAL.  \n",
      "================\n",
      "\n",
      "Use help(str) and ''. (followed by TAB) to see what you can do. \n",
      "===============================================================\n",
      "\n",
      "Try some of the *methods*.  What objects are contained in all strings?\n",
      "======================================================================\n",
      "\n",
      "* \n",
      "\n",
      "* \n",
      "\n",
      "* \n",
      "\n",
      "* \n",
      "\n",
      "* \n",
      "\n",
      "* \n",
      "\n",
      "* \n",
      "\n",
      "* \n",
      "\n",
      "* \n",
      "\n",
      "* \n",
      "\n",
      "* \n",
      "\n",
      "* \n",
      "\n",
      "* \n",
      "\n",
      "* \n",
      "\n",
      "* \n",
      "\n",
      "* \n",
      "\n",
      "* \n",
      "\n",
      "* \n",
      "\n",
      "* \n",
      "\n",
      "* \n",
      "\n",
      "* ."
     ]
    },
    {
     "cell_type": "code",
     "collapsed": false,
     "input": [
      "import sys\n",
      "import IPython\n",
      "print(\"This notebook was evaluated with: Python %s and IPython %s.\" % (sys.version, IPython.__version__))"
     ],
     "language": "python",
     "metadata": {},
     "outputs": []
    }
   ],
   "metadata": {}
  }
 ]
}